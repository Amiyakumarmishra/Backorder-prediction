{
 "cells": [
  {
   "cell_type": "code",
   "execution_count": 129,
   "metadata": {},
   "outputs": [],
   "source": [
    "import pickle\n",
    "import time\n",
    "import numpy as np\n",
    "import pandas as pd\n",
    "import numpy as np\n",
    "import seaborn as sns\n",
    "import matplotlib.pyplot as plt\n",
    "from sklearn.metrics import f1_score\n",
    "from sklearn.metrics import roc_auc_score\n",
    "from sklearn.metrics import f1_score\n",
    "from sklearn.metrics import confusion_matrix\n",
    "from sklearn.metrics import average_precision_score\n",
    "from sklearn.metrics import auc\n",
    "from sklearn.metrics import precision_recall_curve\n",
    "from sklearn.metrics import plot_precision_recall_curve\n",
    "from sklearn.metrics import recall_score\n",
    "from sklearn.metrics import precision_score"
   ]
  },
  {
   "cell_type": "code",
   "execution_count": 130,
   "metadata": {},
   "outputs": [],
   "source": [
    "file =\"missing_value_imputer_.pkl\"\n",
    "with open(file,'rb') as file:\n",
    "    iterative_imputer = pickle.load(file)"
   ]
  },
  {
   "cell_type": "code",
   "execution_count": 131,
   "metadata": {},
   "outputs": [],
   "source": [
    "file =\"robust_transform.pkl\"\n",
    "with open(file,'rb') as file:\n",
    "    robust_scalling = pickle.load(file)"
   ]
  },
  {
   "cell_type": "code",
   "execution_count": 132,
   "metadata": {},
   "outputs": [],
   "source": [
    "file = \"best_model.pkl\"\n",
    "with open(file,'rb') as file:\n",
    "    best_model = pickle.load(file)"
   ]
  },
  {
   "cell_type": "code",
   "execution_count": 133,
   "metadata": {},
   "outputs": [
    {
     "name": "stderr",
     "output_type": "stream",
     "text": [
      "C:\\Users\\amiya\\anaconda3\\lib\\site-packages\\IPython\\core\\interactiveshell.py:3071: DtypeWarning: Columns (0) have mixed types.Specify dtype option on import or set low_memory=False.\n",
      "  has_raised = await self.run_ast_nodes(code_ast.body, cell_name,\n"
     ]
    }
   ],
   "source": [
    "df=pd.read_csv('Kaggle_Training_Dataset_v2.csv')"
   ]
  },
  {
   "cell_type": "code",
   "execution_count": 134,
   "metadata": {},
   "outputs": [],
   "source": [
    "def plot_confusion_matrix(test_y, predict_y):\n",
    "    C = confusion_matrix(test_y, predict_y)\n",
    "    \n",
    "    A =(((C.T)/(C.sum(axis=1))).T)\n",
    "    \n",
    "    B =(C/C.sum(axis=0))\n",
    "    plt.figure(figsize=(20,4))\n",
    "    \n",
    "    labels = [0,1]\n",
    "    # representing A in heatmap format\n",
    "    cmap=sns.light_palette(\"blue\")\n",
    "\n",
    "    \n",
    "    \n",
    "    plt.subplot(1, 1,1)\n",
    "    # representing B in heatmap format\n",
    "    sns.heatmap(A, annot=True, cmap=cmap, fmt=\".3f\", xticklabels=labels, yticklabels=labels)\n",
    "    plt.xlabel('Predicted Class')\n",
    "    plt.ylabel('Original Class')\n",
    "    plt.title(\"Recall matrix\")\n",
    "    \n",
    "    plt.show()"
   ]
  },
  {
   "cell_type": "code",
   "execution_count": 135,
   "metadata": {},
   "outputs": [],
   "source": [
    "def function1(X):\n",
    " \n",
    "    # replacing -99 by NaN in perf_6_month_avg and perf_12_month_avg column\n",
    "    X.perf_6_month_avg.replace({-99.0 : np.nan},inplace=True)\n",
    "    X.perf_12_month_avg.replace({-99.0 : np.nan},inplace=True)\n",
    " \n",
    "    # Converting  Yes and No to 0 and 1 respectively (one hot encoding for categorical features)\n",
    "    categorical_features = ['rev_stop','stop_auto_buy','ppap_risk','oe_constraint','deck_risk','potential_issue']\n",
    "    for col in categorical_features:\n",
    "        X[col].replace({'Yes':1,'No':0},inplace=True)\n",
    "        X[col]=X[col].astype(int)\n",
    " \n",
    "    # iteraive Imputation (for missing value imputation)\n",
    "    X_array=X.to_numpy()\n",
    "\n",
    "    X_array =iterative_imputer.transform(X_array)\n",
    "    \n",
    "\n",
    "    \n",
    "    # robust scalling on Data \n",
    "\n",
    "    X_array_robust_scalled = robust_scalling .transform(X_array)\n",
    "    \n",
    "\n",
    "    \n",
    "    predicted_y=best_model.predict(X_array_robust_scalled)\n",
    "    \n",
    "    labled_predicted_y=[]\n",
    "    \n",
    "    #Coverting ml output to bussiness output\n",
    "    for each in predicted_y:\n",
    "        if each==0:\n",
    "            labled_predicted_y.append(\"No\")\n",
    "        else:\n",
    "            labled_predicted_y.append(\"Yes\")\n",
    "    \n",
    "    return labled_predicted_y"
   ]
  },
  {
   "cell_type": "code",
   "execution_count": 136,
   "metadata": {},
   "outputs": [
    {
     "name": "stdout",
     "output_type": "stream",
     "text": [
      "Predicted y after modelling:  ['No', 'No', 'No', 'No', 'No']\n",
      "Time taken for execution is 31.155861377716064\n"
     ]
    }
   ],
   "source": [
    "x = df.head(5)\n",
    "target_feature = x['went_on_backorder']\n",
    "x = x.drop(['sku','went_on_backorder'],axis=1)\n",
    "y_hat = function1(x)\n",
    "print(\" Predicted y after modelling: \",y_hat)\n",
    "print(\"Time taken for execution is  found to be {}\".format((time.time() - start_time)))"
   ]
  },
  {
   "cell_type": "code",
   "execution_count": 137,
   "metadata": {},
   "outputs": [],
   "source": [
    "def function2(X,Y):\n",
    " \n",
    "    # replacing -99 by NaN in perf_6_month_avg and perf_12_month_avg column\n",
    "    X.perf_6_month_avg.replace({-99.0 : np.nan},inplace=True)\n",
    "    X.perf_12_month_avg.replace({-99.0 : np.nan},inplace=True)\n",
    " \n",
    "    # Converting  Yes and No to 0 and 1 respectively (one hot encoding for categorical features)\n",
    "    categorical_features = ['rev_stop','stop_auto_buy','ppap_risk','oe_constraint','deck_risk','potential_issue']\n",
    "    for col in categorical_features:\n",
    "        X[col].replace({'Yes':1,'No':0},inplace=True)\n",
    "        X[col]=X[col].astype(int)\n",
    "        \n",
    "    # one-hot encoding for target feature\n",
    "    Y.replace({'Yes':1,'No':0},inplace=True)\n",
    "    Y.astype(int)\n",
    " \n",
    "    # iteraive Imputation (missing value imputation)\n",
    "    X_array=X.to_numpy()\n",
    "\n",
    "    X_array =iterative_imputer.transform(X_array)\n",
    "    \n",
    "    \n",
    "    # robust scalling on Data \n",
    "\n",
    "    X_array_robust_scalled = robust_scalling .transform(X_array)\n",
    "    \n",
    "    #prediction using best model\n",
    "    \n",
    "    predicted_y=best_model.predict(X_array_robust_scalled)\n",
    "    \n",
    "    print(\"Macro F1-Score after applying best model on test data is : \" , f1_score(Y,predicted_y,pos_label =1,average=\"micro\"))\n",
    "    \n",
    "    plot_confusion_matrix(Y,predicted_y)    \n",
    "    \n",
    "    \n",
    "\n",
    "    \n"
   ]
  },
  {
   "cell_type": "code",
   "execution_count": 138,
   "metadata": {},
   "outputs": [
    {
     "name": "stderr",
     "output_type": "stream",
     "text": [
      "C:\\Users\\amiya\\anaconda3\\lib\\site-packages\\pandas\\core\\series.py:4506: SettingWithCopyWarning: \n",
      "A value is trying to be set on a copy of a slice from a DataFrame\n",
      "\n",
      "See the caveats in the documentation: https://pandas.pydata.org/pandas-docs/stable/user_guide/indexing.html#returning-a-view-versus-a-copy\n",
      "  return super().replace(\n"
     ]
    },
    {
     "name": "stdout",
     "output_type": "stream",
     "text": [
      "Macro F1-Score after applying best model on test data is :  0.9092142857142858\n"
     ]
    },
    {
     "data": {
      "image/png": "[encoded data removed]",
      "text/plain": [
       "<Figure size 1440x288 with 2 Axes>"
      ]
     },
     "metadata": {
      "needs_background": "light"
     },
     "output_type": "display_data"
    },
    {
     "name": "stdout",
     "output_type": "stream",
     "text": [
      "Time Taken for execution is 4.243344068527222\n"
     ]
    }
   ],
   "source": [
    "small_data = df.head(14000)\n",
    "target_feature = small_data['went_on_backorder']\n",
    "small_data = small_data.drop(['sku','went_on_backorder'],axis=1)\n",
    "start_time = time.time()\n",
    "function2(small_data,target_feature)\n",
    "print(\"Time Taken for execution is {}\".format((time.time() - start_time)))"
   ]
  },
  {
   "cell_type": "code",
   "execution_count": null,
   "metadata": {},
   "outputs": [],
   "source": []
  },
  {
   "cell_type": "code",
   "execution_count": null,
   "metadata": {},
   "outputs": [],
   "source": []
  }
 ],
 "metadata": {
  "kernelspec": {
   "display_name": "Python 3",
   "language": "python",
   "name": "python3"
  },
  "language_info": {
   "codemirror_mode": {
    "name": "ipython",
    "version": 3
   },
   "file_extension": ".py",
   "mimetype": "text/x-python",
   "name": "python",
   "nbconvert_exporter": "python",
   "pygments_lexer": "ipython3",
   "version": "3.8.3"
  }
 },
 "nbformat": 4,
 "nbformat_minor": 4
}
